{
 "cells": [
  {
   "cell_type": "markdown",
   "metadata": {},
   "source": [
    "# 4.1 인스타그램 크롤링 "
   ]
  },
  {
   "cell_type": "markdown",
   "metadata": {},
   "source": [
    "### 4.1.2 인스타그램 검색 결과 URL을 만들어서 접속하기"
   ]
  },
  {
   "cell_type": "code",
   "execution_count": 1,
   "metadata": {},
   "outputs": [],
   "source": [
    "# 예제 4-1 인스타그램 검색결과 URL을 만드는 함수\n",
    "def insta_searching(word):\n",
    "    url = \"https://www.instagram.com/explore/tags/\" + word\n",
    "    return url\n",
    "    "
   ]
  },
  {
   "cell_type": "code",
   "execution_count": 2,
   "metadata": {},
   "outputs": [],
   "source": [
    "# 예제 4-2 selenium으로 URL 접속하기 - 1\n",
    "from selenium import webdriver\n",
    "\n",
    "driver = webdriver.Chrome(\"c:/chromedriver.exe\")   "
   ]
  },
  {
   "cell_type": "markdown",
   "metadata": {},
   "source": [
    "#### 안내사항\n",
    "로그인을 해야만 게시물을 볼 수 있도록 인스타그램 운영 정책이 변경되었습니다(2020.04.27)  \n",
    "인스타그램 로그인을 하는 코드를 추가하였습니다.   \n",
    "직접 브라우저에 계정 정보를 입력해도 되고, 코드를 이용해도 됩니다.   \n",
    "다만,  본인의 계정/비번 정보가 외부에 노출되지 않도록 주의하시기 바랍니다. \n",
    "\n",
    "※ 주의) `인스타 로그인`을 위해 계정 `아이디` / `비번` 입력이 필요합니다. "
   ]
  },
  {
   "cell_type": "code",
   "execution_count": 3,
   "metadata": {},
   "outputs": [],
   "source": [
    "# 예제 4-2 selenium으로 URL 접속하기 - 2\n",
    "# 인스타그램 로그인 부분 추가(2020.05.07)\n",
    "import time\n",
    "\n",
    "# 인스타그램 접속하기\n",
    "driver.get('https://www.instargram.com')\n",
    "time.sleep(2)"
   ]
  },
  {
   "cell_type": "code",
   "execution_count": 5,
   "metadata": {},
   "outputs": [],
   "source": [
    "# 예제 4-2 selenium으로 URL 접속하기 - 3\n",
    "# 인스타계정으로 로그인하기\n",
    "email = ''   ### 계정 정보 수정 필요\n",
    "input_id = driver.find_elements_by_css_selector('input._2hvTZ.pexuQ.zyHYP')[0]\n",
    "input_id.clear()\n",
    "input_id.send_keys(email)\n",
    "\n",
    "password = '' ### 비번 정보 수정 필요\n",
    "input_pw = driver.find_elements_by_css_selector('input._2hvTZ.pexuQ.zyHYP')[1]\n",
    "input_pw.clear()\n",
    "input_pw.send_keys(password)\n",
    "input_pw.submit()"
   ]
  },
  {
   "cell_type": "markdown",
   "metadata": {},
   "source": [
    "위 코드 실행후 인스타그램 로그인이 완료되어야 합니다.  \n",
    "\n",
    "추가로, 2단계 인증이 필요하다고 나올 경우 인증까지 완료해주세요. \n",
    "\n",
    "인스타계정이 아닌 페이스북계정으로 로그인이 필요하거나  코드에 아이디/비번 입력하는 것이 부담되는 분은\n",
    "\n",
    "수기로 직접 입력해서 로그인까지 완료하시면 됩니다. \n",
    "\n"
   ]
  },
  {
   "cell_type": "code",
   "execution_count": 6,
   "metadata": {},
   "outputs": [],
   "source": [
    "# 예제 4-2 selenium으로 URL 접속하기 - 4\n",
    "word = \"기념일맛집\"\n",
    "url = insta_searching(word)\n",
    "driver.get(url)"
   ]
  },
  {
   "cell_type": "markdown",
   "metadata": {},
   "source": [
    "### 4.1.3 첫 번째 게시글 열기 "
   ]
  },
  {
   "cell_type": "code",
   "execution_count": 8,
   "metadata": {},
   "outputs": [],
   "source": [
    "# 예제 4-3 HTML에서 첫번째 게시글 찾아 클릭하기\n",
    "def select_first(driver):\n",
    "    first = driver.find_element_by_css_selector(\"div._9AhH0\")\n",
    "    first.click()\n",
    "    time.sleep(3)\n",
    "    \n",
    "select_first(driver)"
   ]
  },
  {
   "cell_type": "markdown",
   "metadata": {},
   "source": [
    "### 4.1.4 게시글 정보 가져오기 "
   ]
  },
  {
   "cell_type": "markdown",
   "metadata": {},
   "source": [
    "Mac 에서 작성된 글의 경우 크롤링 데이터 엑셀파일로 저장시,  한글 자음/모음이 분리되는 현상이 확인되었습니다.   \n",
    "저장하는 과정에서 unicodedata를 이용하여  'NFC' 방식으로(자음/모음 합쳐서 한글 처리하는 방식) 전환하는 코드 추가되었습니다.   \n",
    "한글이 사용되는 본문 및 장소명 부분에 해당 코드 추가하였습니다. (수정일 2020.08.20)"
   ]
  },
  {
   "cell_type": "code",
   "execution_count": 9,
   "metadata": {},
   "outputs": [
    {
     "data": {
      "text/plain": [
       "['최고의 인기를 끌고 있는 세트메뉴💕주말에도 많이 방문해주셔서 감사합니다🙏멕시코타코 요리의 진가를최선을 다해 보여드리겠습니다💙탁트인 공간에서 힐링하고 가세요',\n",
       " '2020-10-26',\n",
       " '1,318',\n",
       " '',\n",
       " []]"
      ]
     },
     "execution_count": 9,
     "metadata": {},
     "output_type": "execute_result"
    }
   ],
   "source": [
    "# 예제 4-4 게시글 정보 가져오기\n",
    "import re\n",
    "from bs4 import BeautifulSoup\n",
    "import unicodedata   # 추가, 2020.08.20\n",
    "\n",
    "def get_content(driver):\n",
    "    # ① 현재 페이지 html 정보 가져오기\n",
    "    html = driver.page_source\n",
    "    soup = BeautifulSoup(html, 'lxml')\n",
    "    # ② 본문 내용 가져오기\n",
    "    try:\n",
    "        content = soup.select('div.C4VMK > span')[0].text\n",
    "        content = unicodedata.normalize('NFC', content)   # 신규 추가. 2020.08.20\n",
    "    except:\n",
    "        content = ' '\n",
    "    # ③ 본문 내용에서 해시태그 가져오기(정규식 활용)\n",
    "    tags = re.findall(r'#[^\\s#,\\\\]+', content)  \n",
    "    # ④ 작성일자 정보 가져오기\n",
    "    date = soup.select('time._1o9PC.Nzb55')[0]['datetime'][:10]\n",
    "    # ⑤ 좋아요 수 가져오기\n",
    "    try:\n",
    "        like = soup.select('div.Nm9Fw > button')[0].text[4:-1]   \n",
    "    except:\n",
    "        like = 0\n",
    "    # ⑥ 위치정보 가져오기\n",
    "    try: \n",
    "        place = soup.select('div.M30cS')[0].text\n",
    "        place = unicodedata.normalize('NFC', place)      # 신규 추가. 2020.08.20\n",
    "    except:\n",
    "        place = ''\n",
    "    # ⑦ 수집한 정보 저장하기\n",
    "    data = [content, date, like, place, tags]\n",
    "    return data\n",
    "\n",
    "get_content(driver)"
   ]
  },
  {
   "cell_type": "markdown",
   "metadata": {},
   "source": [
    "### 4.1.5 다음 게시글 열기"
   ]
  },
  {
   "cell_type": "code",
   "execution_count": 10,
   "metadata": {},
   "outputs": [],
   "source": [
    "# 예제 4-5 다음 게시글 열기\n",
    "def move_next(driver):\n",
    "\n",
    "    right = driver.find_element_by_css_selector ('a.coreSpriteRightPaginationArrow')\n",
    "    right.click()\n",
    "    time.sleep(3)\n",
    "\n",
    "move_next(driver)"
   ]
  },
  {
   "cell_type": "markdown",
   "metadata": {},
   "source": [
    "### 4.1.6 여러 게시글 정보 수집하기"
   ]
  },
  {
   "cell_type": "code",
   "execution_count": 11,
   "metadata": {},
   "outputs": [
    {
     "ename": "IndexError",
     "evalue": "list index out of range",
     "output_type": "error",
     "traceback": [
      "\u001b[1;31m---------------------------------------------------------------------------\u001b[0m",
      "\u001b[1;31mIndexError\u001b[0m                                Traceback (most recent call last)",
      "\u001b[1;32m<ipython-input-11-3537225ebb9a>\u001b[0m in \u001b[0;36m<module>\u001b[1;34m\u001b[0m\n\u001b[0;32m     15\u001b[0m \u001b[1;31m######## 인스타 계정 로그인이 필요합니다 #########\u001b[0m\u001b[1;33m\u001b[0m\u001b[1;33m\u001b[0m\u001b[1;33m\u001b[0m\u001b[0m\n\u001b[0;32m     16\u001b[0m \u001b[0memail\u001b[0m \u001b[1;33m=\u001b[0m \u001b[1;34m'인스타계정입력해주세요'\u001b[0m   \u001b[1;31m### 계정 정보 수정 필요\u001b[0m\u001b[1;33m\u001b[0m\u001b[1;33m\u001b[0m\u001b[0m\n\u001b[1;32m---> 17\u001b[1;33m \u001b[0minput_id\u001b[0m \u001b[1;33m=\u001b[0m \u001b[0mdriver\u001b[0m\u001b[1;33m.\u001b[0m\u001b[0mfind_elements_by_css_selector\u001b[0m\u001b[1;33m(\u001b[0m\u001b[1;34m'input._2hvTZ.pexuQ.zyHYP'\u001b[0m\u001b[1;33m)\u001b[0m\u001b[1;33m[\u001b[0m\u001b[1;36m0\u001b[0m\u001b[1;33m]\u001b[0m\u001b[1;33m\u001b[0m\u001b[1;33m\u001b[0m\u001b[0m\n\u001b[0m\u001b[0;32m     18\u001b[0m \u001b[0minput_id\u001b[0m\u001b[1;33m.\u001b[0m\u001b[0mclear\u001b[0m\u001b[1;33m(\u001b[0m\u001b[1;33m)\u001b[0m\u001b[1;33m\u001b[0m\u001b[1;33m\u001b[0m\u001b[0m\n\u001b[0;32m     19\u001b[0m \u001b[0minput_id\u001b[0m\u001b[1;33m.\u001b[0m\u001b[0msend_keys\u001b[0m\u001b[1;33m(\u001b[0m\u001b[0memail\u001b[0m\u001b[1;33m)\u001b[0m\u001b[1;33m\u001b[0m\u001b[1;33m\u001b[0m\u001b[0m\n",
      "\u001b[1;31mIndexError\u001b[0m: list index out of range"
     ]
    }
   ],
   "source": [
    "# 예제 4-6 인스타그램 크롤링  1 - 인스타그램 로그인하기\n",
    "from selenium import webdriver\n",
    "from bs4 import BeautifulSoup\n",
    "import time\n",
    "import re\n",
    "\n",
    "# ① 크롬 브라우저 열기\n",
    "driver = webdriver.Chrome('c:/chromedriver.exe') \n",
    "\n",
    "# 추가) 인스타그램 접속후, 로그인 하기  - \n",
    "driver.get('https://www.instargram.com')\n",
    "time.sleep(2)\n",
    "\n",
    "\n",
    "######## 인스타 계정 로그인이 필요합니다 #########\n",
    "email = '인스타계정입력해주세요'   ### 계정 정보 수정 필요\n",
    "input_id = driver.find_elements_by_css_selector('input._2hvTZ.pexuQ.zyHYP')[0]\n",
    "input_id.clear()\n",
    "input_id.send_keys(email)\n",
    "\n",
    "password = '인스타비번입력해주세요' ### 비번 정보 수정 필요\n",
    "input_pw = driver.find_elements_by_css_selector('input._2hvTZ.pexuQ.zyHYP')[1]\n",
    "input_pw.clear()\n",
    "input_pw.send_keys(password)\n",
    "input_pw.submit()"
   ]
  },
  {
   "cell_type": "markdown",
   "metadata": {},
   "source": [
    "위 코드 실행후 인스타그램 로그인이 완료되어야 합니다.  \n",
    "\n",
    "추가로, 2단계 인증이 필요하다고 나올 경우 인증까지 완료해주세요. \n",
    "\n",
    "인스타계정이 아닌 페이스북계정으로 로그인이 필요하거나  코드에 아이디/비번 입력하는 것이 부담되는 분은\n",
    "\n",
    "수기로 직접 입력해서 로그인까지 완료하시면 됩니다. \n",
    "\n"
   ]
  },
  {
   "cell_type": "code",
   "execution_count": null,
   "metadata": {},
   "outputs": [],
   "source": [
    "# 예제 4-6 인스타그램 크롤링  2 - 크롤링하기\n",
    "# ② 인스타그램 검색페이지 URL 만들기\n",
    "word = \"기념일맛집\"    #검색어\n",
    "url = insta_searching(word)\n",
    "\n",
    "# ③ 검색페이지 접속하기\n",
    "driver.get(url)\n",
    "time.sleep(3)\n",
    "\n",
    "# ④ 첫 번째 게시글 열기\n",
    "select_first(driver)\n",
    "\n",
    "# ⑤ 비어있는 변수(results)만들기\n",
    "results = [ ]\n",
    "\n",
    "\n",
    "# ⑥→⑦→⑧ 여러 게시물 수집하기\n",
    "target = 500      # 크롤링할 게시글 수\n",
    "for i in range(target):\n",
    "    # 게시글 수집에 오류 발생시(네트워크 문제 등의 이유로)  2초 대기 후, 다음 게시글로 넘어가도록 try, except 구문 활용\n",
    "    try:\n",
    "        data = get_content(driver)    # 게시글 정보 가져오기\n",
    "        results.append(data)\n",
    "        move_next(driver)\n",
    "    except:\n",
    "        time.sleep(2)\n",
    "        move_next(driver)\n",
    "    \n",
    "\n",
    "print(results[:2])"
   ]
  },
  {
   "cell_type": "code",
   "execution_count": null,
   "metadata": {},
   "outputs": [],
   "source": [
    "# 예제 4-7 크롤링 결과 저장하기\n",
    "\n",
    "import pandas as pd\n",
    "\n",
    "results_df = pd.DataFrame(results)\n",
    "results_df.columns = ['content','date','like','place','tags']\n",
    "results_df.to_excel('./files/3_1_crawling_jejudoMatJip.xlsx', index=False)\n"
   ]
  },
  {
   "cell_type": "code",
   "execution_count": null,
   "metadata": {},
   "outputs": [],
   "source": [
    "results_df"
   ]
  },
  {
   "cell_type": "markdown",
   "metadata": {},
   "source": [
    "### 4.1.8 여러 엑셀 파일의 중복을 제거한 후 통합 저장\n"
   ]
  },
  {
   "cell_type": "code",
   "execution_count": null,
   "metadata": {},
   "outputs": [],
   "source": [
    "# 예제 4-8 여러 개의 저장파일 통합하기\n",
    "jeju_insta_df = pd.DataFrame( [ ] )\n",
    "\n",
    "folder = './files/'\n",
    "f_list = ['3_1_crawling_jejudoMatJip.xlsx', '3_1_crawling_jejudoGwanGwang.xlsx', '3_1_crawling_jejuMatJip.xlsx', '3_1_crawling_jejuYeoHang.xlsx']\n",
    "for fname in f_list:\n",
    "    fpath = folder + fname\n",
    "    temp = pd.read_excel(fpath)\n",
    "    jeju_insta_df = jeju_insta_df.append(temp)\n",
    "\n",
    "jeju_insta_df.columns =['content','date','like','place','tags']\n"
   ]
  },
  {
   "cell_type": "code",
   "execution_count": null,
   "metadata": {},
   "outputs": [],
   "source": [
    "jeju_insta_df"
   ]
  },
  {
   "cell_type": "code",
   "execution_count": null,
   "metadata": {
    "scrolled": true
   },
   "outputs": [],
   "source": [
    "# 예제 4-9 중복 데이터 제거하고 저장하기\n",
    "jeju_insta_df.drop_duplicates(subset = [\"content\"] , inplace = True)\n",
    "jeju_insta_df.to_excel('./files/3_1_crawling_raw.xlsx', index = False, encoding=\"utf-8\")"
   ]
  },
  {
   "cell_type": "code",
   "execution_count": null,
   "metadata": {},
   "outputs": [],
   "source": [
    "jeju_insta_df"
   ]
  },
  {
   "cell_type": "code",
   "execution_count": null,
   "metadata": {},
   "outputs": [],
   "source": []
  }
 ],
 "metadata": {
  "kernelspec": {
   "display_name": "Python 3",
   "language": "python",
   "name": "python3"
  },
  "language_info": {
   "codemirror_mode": {
    "name": "ipython",
    "version": 3
   },
   "file_extension": ".py",
   "mimetype": "text/x-python",
   "name": "python",
   "nbconvert_exporter": "python",
   "pygments_lexer": "ipython3",
   "version": "3.7.7"
  }
 },
 "nbformat": 4,
 "nbformat_minor": 2
}
